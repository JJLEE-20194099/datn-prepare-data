{
 "cells": [
  {
   "cell_type": "code",
   "execution_count": null,
   "metadata": {},
   "outputs": [],
   "source": [
    "from tqdm import tqdm\n",
    "from crawler_tool import Batdongsan, crawl_batdongsan_by_url\n",
    "import pymongo\n",
    "from pymongo import InsertOne\n",
    "from dotenv import load_dotenv\n",
    "from seleniumbase import SB\n",
    "import time\n",
    "from bs4 import BeautifulSoup\n",
    "from datetime import datetime\n",
    "import pandas as pd\n",
    "import os\n",
    "import math\n",
    "load_dotenv(override=True)\n",
    "\n",
    "connection_str = os.getenv('REALESTATE_DB')\n",
    "__client = pymongo.MongoClient(connection_str)\n",
    "\n",
    "database = 'realestate'\n",
    "__database = __client[database]\n",
    "\n",
    "collection = __database[\"realestate_url_pool\"]"
   ]
  },
  {
   "cell_type": "code",
   "execution_count": null,
   "metadata": {},
   "outputs": [],
   "source": [
    "data = list(collection.find({}))"
   ]
  },
  {
   "cell_type": "code",
   "execution_count": null,
   "metadata": {},
   "outputs": [],
   "source": [
    "df = pd.DataFrame(data)"
   ]
  },
  {
   "cell_type": "code",
   "execution_count": null,
   "metadata": {},
   "outputs": [],
   "source": [
    "df"
   ]
  },
  {
   "cell_type": "code",
   "execution_count": null,
   "metadata": {},
   "outputs": [],
   "source": [
    "df = df[df['source'] == 'muaban']"
   ]
  },
  {
   "cell_type": "code",
   "execution_count": null,
   "metadata": {},
   "outputs": [],
   "source": [
    "df.to_csv('./url_pool.csv')"
   ]
  },
  {
   "cell_type": "code",
   "execution_count": null,
   "metadata": {},
   "outputs": [],
   "source": [
    "unique_df = df.drop_duplicates(subset = ['url'], keep ='first')"
   ]
  },
  {
   "cell_type": "code",
   "execution_count": null,
   "metadata": {},
   "outputs": [],
   "source": [
    "num_dup = df.shape[0] - unique_df.shape[0]\n",
    "num_uni = unique_df.shape[0]"
   ]
  },
  {
   "cell_type": "code",
   "execution_count": null,
   "metadata": {},
   "outputs": [],
   "source": [
    "import matplotlib.pyplot as plt\n",
    "import numpy as np\n",
    "\n",
    "fig, ax = plt.subplots(figsize=(18, 9), subplot_kw=dict(aspect=\"equal\"))\n",
    "\n",
    "ingredients = [\"Num of duplicated urls\",\n",
    "          \"Num of unique urls\"]\n",
    "\n",
    "data = [num_dup, num_uni]\n",
    "\n",
    "\n",
    "def func(pct, allvals):\n",
    "    absolute = int(np.round(pct/100.*np.sum(allvals)))\n",
    "    return f\"{pct:.1f}%\\n({absolute:d} url)\"\n",
    "\n",
    "\n",
    "wedges, texts, autotexts = ax.pie(data, autopct=lambda pct: func(pct, data),\n",
    "                                  textprops=dict(color=\"w\"))\n",
    "\n",
    "ax.legend(wedges, ingredients,\n",
    "          title=\"Type\",\n",
    "          loc=\"center left\",\n",
    "          bbox_to_anchor=(1, 0, 0.5, 1))\n",
    "\n",
    "plt.setp(autotexts, size=8, weight=\"bold\")\n",
    "\n",
    "ax.set_title(\"Statistics on Duplicate url Levels\")\n",
    "\n",
    "plt.show()"
   ]
  },
  {
   "cell_type": "code",
   "execution_count": null,
   "metadata": {},
   "outputs": [],
   "source": [
    "unique_df.reset_index(drop = True).to_csv('./url_pool.csv', index = False)"
   ]
  },
  {
   "cell_type": "code",
   "execution_count": 20,
   "metadata": {},
   "outputs": [
    {
     "name": "stdout",
     "output_type": "stream",
     "text": [
      "{'http': '118.107.66.75:3202'}\n"
     ]
    },
    {
     "data": {
      "text/plain": [
       "<Response [429]>"
      ]
     },
     "execution_count": 20,
     "metadata": {},
     "output_type": "execute_result"
    }
   ],
   "source": [
    "import requests\n",
    "\n",
    "lst_proxy = []\n",
    "with open(r\"./ip.txt\", 'r') as f:\n",
    "    for line in f:\n",
    "        lst_proxy.append(line.strip())\n",
    "\n",
    "proxies = {\n",
    "        \"http\": '118.107.66.75:3202'\n",
    "    }\n",
    "print(proxies)\n",
    "requests.get('https://muaban.net/listing/v1/classifieds/listing?subcategory_id=169&category_id=33&sort=1&limit=20&offset=6220', headers = {'User-agent': 'your bot 0.1'}, proxies = proxies)"
   ]
  }
 ],
 "metadata": {
  "kernelspec": {
   "display_name": "mlops-env",
   "language": "python",
   "name": "python3"
  },
  "language_info": {
   "codemirror_mode": {
    "name": "ipython",
    "version": 3
   },
   "file_extension": ".py",
   "mimetype": "text/x-python",
   "name": "python",
   "nbconvert_exporter": "python",
   "pygments_lexer": "ipython3",
   "version": "3.10.4"
  }
 },
 "nbformat": 4,
 "nbformat_minor": 2
}
