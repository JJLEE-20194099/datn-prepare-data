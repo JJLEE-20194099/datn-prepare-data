{
 "cells": [
  {
   "cell_type": "code",
   "execution_count": 1,
   "metadata": {},
   "outputs": [],
   "source": [
    "from tqdm import tqdm\n",
    "from crawler_tool import Batdongsan, crawl_batdongsan_by_url\n",
    "import pymongo\n",
    "from pymongo import InsertOne\n",
    "from dotenv import load_dotenv\n",
    "from seleniumbase import SB\n",
    "import time\n",
    "from bs4 import BeautifulSoup\n",
    "from datetime import datetime\n",
    "import pandas as pd\n",
    "import os\n",
    "import math\n",
    "load_dotenv(override=True)\n",
    "\n",
    "connection_str = os.getenv('REALESTATE_DB')\n",
    "__client = pymongo.MongoClient(connection_str)\n",
    "\n",
    "database = 'realestate'\n",
    "__database = __client[database]\n",
    "\n",
    "collection = __database[\"realestate_url_pool\"]"
   ]
  },
  {
   "cell_type": "code",
   "execution_count": 3,
   "metadata": {},
   "outputs": [],
   "source": [
    "data = list(collection.find({}))"
   ]
  },
  {
   "cell_type": "code",
   "execution_count": 4,
   "metadata": {},
   "outputs": [],
   "source": [
    "df = pd.DataFrame(data)"
   ]
  },
  {
   "cell_type": "code",
   "execution_count": 5,
   "metadata": {},
   "outputs": [
    {
     "data": {
      "text/html": [
       "<div>\n",
       "<style scoped>\n",
       "    .dataframe tbody tr th:only-of-type {\n",
       "        vertical-align: middle;\n",
       "    }\n",
       "\n",
       "    .dataframe tbody tr th {\n",
       "        vertical-align: top;\n",
       "    }\n",
       "\n",
       "    .dataframe thead th {\n",
       "        text-align: right;\n",
       "    }\n",
       "</style>\n",
       "<table border=\"1\" class=\"dataframe\">\n",
       "  <thead>\n",
       "    <tr style=\"text-align: right;\">\n",
       "      <th></th>\n",
       "      <th>_id</th>\n",
       "      <th>crawl_at</th>\n",
       "      <th>url</th>\n",
       "      <th>source</th>\n",
       "    </tr>\n",
       "  </thead>\n",
       "  <tbody>\n",
       "    <tr>\n",
       "      <th>0</th>\n",
       "      <td>66721d48a483ab60e9f38f2d</td>\n",
       "      <td>2024-06-18 23:50:32.500</td>\n",
       "      <td>https://batdongsan.com.vn/ban-dat-duong-ngo-ch...</td>\n",
       "      <td>batdongsan</td>\n",
       "    </tr>\n",
       "    <tr>\n",
       "      <th>1</th>\n",
       "      <td>66721d48a483ab60e9f38f2e</td>\n",
       "      <td>2024-06-18 23:50:32.500</td>\n",
       "      <td>https://batdongsan.com.vn/ban-dat-duong-tran-n...</td>\n",
       "      <td>batdongsan</td>\n",
       "    </tr>\n",
       "    <tr>\n",
       "      <th>2</th>\n",
       "      <td>66721d48a483ab60e9f38f2f</td>\n",
       "      <td>2024-06-18 23:50:32.500</td>\n",
       "      <td>https://batdongsan.com.vn/ban-dat-duong-hung-v...</td>\n",
       "      <td>batdongsan</td>\n",
       "    </tr>\n",
       "    <tr>\n",
       "      <th>3</th>\n",
       "      <td>66721d48a483ab60e9f38f30</td>\n",
       "      <td>2024-06-18 23:50:32.500</td>\n",
       "      <td>https://batdongsan.com.vn/ban-dat-duong-bui-hu...</td>\n",
       "      <td>batdongsan</td>\n",
       "    </tr>\n",
       "    <tr>\n",
       "      <th>4</th>\n",
       "      <td>66721d48a483ab60e9f38f31</td>\n",
       "      <td>2024-06-18 23:50:32.500</td>\n",
       "      <td>https://batdongsan.com.vn/ban-dat-duong-ba-die...</td>\n",
       "      <td>batdongsan</td>\n",
       "    </tr>\n",
       "    <tr>\n",
       "      <th>...</th>\n",
       "      <td>...</td>\n",
       "      <td>...</td>\n",
       "      <td>...</td>\n",
       "      <td>...</td>\n",
       "    </tr>\n",
       "    <tr>\n",
       "      <th>160793</th>\n",
       "      <td>6672ca28cad939acfd5adfd8</td>\n",
       "      <td>2024-06-19 12:08:08.287</td>\n",
       "      <td>https://batdongsan.com.vn/ban-nha-rieng-duong-...</td>\n",
       "      <td>batdongsan</td>\n",
       "    </tr>\n",
       "    <tr>\n",
       "      <th>160794</th>\n",
       "      <td>6672ca28cad939acfd5adfd9</td>\n",
       "      <td>2024-06-19 12:08:08.287</td>\n",
       "      <td>https://batdongsan.com.vn/ban-nha-rieng-duong-...</td>\n",
       "      <td>batdongsan</td>\n",
       "    </tr>\n",
       "    <tr>\n",
       "      <th>160795</th>\n",
       "      <td>6672ca28cad939acfd5adfda</td>\n",
       "      <td>2024-06-19 12:08:08.287</td>\n",
       "      <td>https://batdongsan.com.vn/ban-can-ho-chung-cu-...</td>\n",
       "      <td>batdongsan</td>\n",
       "    </tr>\n",
       "    <tr>\n",
       "      <th>160796</th>\n",
       "      <td>6672ca28cad939acfd5adfdb</td>\n",
       "      <td>2024-06-19 12:08:08.287</td>\n",
       "      <td>https://batdongsan.com.vn/ban-nha-biet-thu-lie...</td>\n",
       "      <td>batdongsan</td>\n",
       "    </tr>\n",
       "    <tr>\n",
       "      <th>160797</th>\n",
       "      <td>6672ca28cad939acfd5adfdc</td>\n",
       "      <td>2024-06-19 12:08:08.287</td>\n",
       "      <td>https://batdongsan.com.vn/ban-nha-mat-pho-duon...</td>\n",
       "      <td>batdongsan</td>\n",
       "    </tr>\n",
       "  </tbody>\n",
       "</table>\n",
       "<p>160798 rows × 4 columns</p>\n",
       "</div>"
      ],
      "text/plain": [
       "                             _id                crawl_at  \\\n",
       "0       66721d48a483ab60e9f38f2d 2024-06-18 23:50:32.500   \n",
       "1       66721d48a483ab60e9f38f2e 2024-06-18 23:50:32.500   \n",
       "2       66721d48a483ab60e9f38f2f 2024-06-18 23:50:32.500   \n",
       "3       66721d48a483ab60e9f38f30 2024-06-18 23:50:32.500   \n",
       "4       66721d48a483ab60e9f38f31 2024-06-18 23:50:32.500   \n",
       "...                          ...                     ...   \n",
       "160793  6672ca28cad939acfd5adfd8 2024-06-19 12:08:08.287   \n",
       "160794  6672ca28cad939acfd5adfd9 2024-06-19 12:08:08.287   \n",
       "160795  6672ca28cad939acfd5adfda 2024-06-19 12:08:08.287   \n",
       "160796  6672ca28cad939acfd5adfdb 2024-06-19 12:08:08.287   \n",
       "160797  6672ca28cad939acfd5adfdc 2024-06-19 12:08:08.287   \n",
       "\n",
       "                                                      url      source  \n",
       "0       https://batdongsan.com.vn/ban-dat-duong-ngo-ch...  batdongsan  \n",
       "1       https://batdongsan.com.vn/ban-dat-duong-tran-n...  batdongsan  \n",
       "2       https://batdongsan.com.vn/ban-dat-duong-hung-v...  batdongsan  \n",
       "3       https://batdongsan.com.vn/ban-dat-duong-bui-hu...  batdongsan  \n",
       "4       https://batdongsan.com.vn/ban-dat-duong-ba-die...  batdongsan  \n",
       "...                                                   ...         ...  \n",
       "160793  https://batdongsan.com.vn/ban-nha-rieng-duong-...  batdongsan  \n",
       "160794  https://batdongsan.com.vn/ban-nha-rieng-duong-...  batdongsan  \n",
       "160795  https://batdongsan.com.vn/ban-can-ho-chung-cu-...  batdongsan  \n",
       "160796  https://batdongsan.com.vn/ban-nha-biet-thu-lie...  batdongsan  \n",
       "160797  https://batdongsan.com.vn/ban-nha-mat-pho-duon...  batdongsan  \n",
       "\n",
       "[160798 rows x 4 columns]"
      ]
     },
     "execution_count": 5,
     "metadata": {},
     "output_type": "execute_result"
    }
   ],
   "source": [
    "df"
   ]
  },
  {
   "cell_type": "code",
   "execution_count": 6,
   "metadata": {},
   "outputs": [],
   "source": [
    "df.to_csv('./url_pool.csv')"
   ]
  },
  {
   "cell_type": "code",
   "execution_count": 9,
   "metadata": {},
   "outputs": [],
   "source": [
    "unique_df = df.drop_duplicates(subset = ['url'], keep ='first')"
   ]
  },
  {
   "cell_type": "code",
   "execution_count": 12,
   "metadata": {},
   "outputs": [],
   "source": [
    "num_dup = df.shape[0] - unique_df.shape[0]\n",
    "num_uni = unique_df.shape[0]"
   ]
  },
  {
   "cell_type": "code",
   "execution_count": 15,
   "metadata": {},
   "outputs": [
    {
     "data": {
      "image/png": "[encoded data removed]",
      "text/plain": [
       "<Figure size 1800x900 with 1 Axes>"
      ]
     },
     "metadata": {},
     "output_type": "display_data"
    }
   ],
   "source": [
    "import matplotlib.pyplot as plt\n",
    "import numpy as np\n",
    "\n",
    "fig, ax = plt.subplots(figsize=(18, 9), subplot_kw=dict(aspect=\"equal\"))\n",
    "\n",
    "ingredients = [\"Num of duplicated urls\",\n",
    "          \"Num of unique urls\"]\n",
    "\n",
    "data = [num_dup, num_uni]\n",
    "\n",
    "\n",
    "def func(pct, allvals):\n",
    "    absolute = int(np.round(pct/100.*np.sum(allvals)))\n",
    "    return f\"{pct:.1f}%\\n({absolute:d} url)\"\n",
    "\n",
    "\n",
    "wedges, texts, autotexts = ax.pie(data, autopct=lambda pct: func(pct, data),\n",
    "                                  textprops=dict(color=\"w\"))\n",
    "\n",
    "ax.legend(wedges, ingredients,\n",
    "          title=\"Type\",\n",
    "          loc=\"center left\",\n",
    "          bbox_to_anchor=(1, 0, 0.5, 1))\n",
    "\n",
    "plt.setp(autotexts, size=8, weight=\"bold\")\n",
    "\n",
    "ax.set_title(\"Statistics on Duplicate url Levels\")\n",
    "\n",
    "plt.show()"
   ]
  },
  {
   "cell_type": "code",
   "execution_count": 18,
   "metadata": {},
   "outputs": [],
   "source": [
    "unique_df.reset_index(drop = True).to_csv('./url_pool.csv', index = False)"
   ]
  }
 ],
 "metadata": {
  "kernelspec": {
   "display_name": "mlops-env",
   "language": "python",
   "name": "python3"
  },
  "language_info": {
   "codemirror_mode": {
    "name": "ipython",
    "version": 3
   },
   "file_extension": ".py",
   "mimetype": "text/x-python",
   "name": "python",
   "nbconvert_exporter": "python",
   "pygments_lexer": "ipython3",
   "version": "3.10.4"
  }
 },
 "nbformat": 4,
 "nbformat_minor": 2
}
