{
 "cells": [
  {
   "cell_type": "code",
   "execution_count": 5,
   "metadata": {},
   "outputs": [],
   "source": [
    "import time\n",
    "from tqdm import tqdm\n",
    "import os\n",
    "import numpy as np"
   ]
  },
  {
   "cell_type": "code",
   "execution_count": 8,
   "metadata": {},
   "outputs": [
    {
     "name": "stderr",
     "output_type": "stream",
     "text": [
      "100%|██████████| 22/22 [00:00<00:00, 215092.51it/s]\n"
     ]
    }
   ],
   "source": [
    "time_list = []\n",
    "for exp in tqdm(range(22)):\n",
    "    from meeyland_clean_raw_data import runMeeyland\n",
    "    res = runMeeyland()\n",
    "    print(res)\n",
    "    time_list.append(res)\n"
   ]
  },
  {
   "cell_type": "code",
   "execution_count": 10,
   "metadata": {},
   "outputs": [
    {
     "name": "stdout",
     "output_type": "stream",
     "text": [
      "[22.92575905557712, 22.442676645674496, 22.291267951501712, 22.134424804767946, 23.05673868253855, 22.930342294435253, 22.94331763241038, 21.447932199478085, 21.93752804347406, 22.224158013513847, 23.091197450354564, 22.64514008999326, 22.401694308989953, 22.22825244305139, 22.79893237239106, 22.54217427184404, 22.369473116139112, 23.046375621594507, 22.199750761018613, 21.466213810687073, 21.53907721542572, 21.748960220907147]\n"
     ]
    }
   ],
   "source": [
    "print(time_list)"
   ]
  }
 ],
 "metadata": {
  "kernelspec": {
   "display_name": "mlops-env",
   "language": "python",
   "name": "python3"
  },
  "language_info": {
   "codemirror_mode": {
    "name": "ipython",
    "version": 3
   },
   "file_extension": ".py",
   "mimetype": "text/x-python",
   "name": "python",
   "nbconvert_exporter": "python",
   "pygments_lexer": "ipython3",
   "version": "3.10.4"
  }
 },
 "nbformat": 4,
 "nbformat_minor": 2
}
